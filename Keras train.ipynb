{
 "cells": [
  {
   "cell_type": "code",
   "execution_count": 1,
   "metadata": {
    "scrolled": true
   },
   "outputs": [
    {
     "name": "stderr",
     "output_type": "stream",
     "text": [
      "Using TensorFlow backend.\n"
     ]
    }
   ],
   "source": [
    "import pandas as pd\n",
    "from sklearn.preprocessing import MinMaxScaler\n",
    "from sklearn.metrics import mean_squared_error\n",
    "from keras.models import Sequential\n",
    "from keras.layers import Dense\n",
    "from keras.layers import LSTM\n",
    "from keras.layers import BatchNormalization\n",
    "from keras.layers import Flatten\n",
    "import matplotlib.pyplot as plt\n",
    "import numpy as np\n",
    "from math import sqrt"
   ]
  },
  {
   "cell_type": "markdown",
   "metadata": {},
   "source": [
    "### Function to reframe the vectors to prepare for a multivariate supervised training of time series\n",
    "\n",
    "source: https://machinelearningmastery.com/convert-time-series-supervised-learning-problem-python/"
   ]
  },
  {
   "cell_type": "code",
   "execution_count": 2,
   "metadata": {},
   "outputs": [],
   "source": [
    "def series_to_supervised(data, n_in=1, n_out=1, dropnan=True):\n",
    "    \"\"\"\n",
    "    Frame a time series as a supervised learning dataset.\n",
    "    Arguments:\n",
    "        data: Sequence of observations as a list or NumPy array.\n",
    "        n_in: Number of lag observations as input (X).\n",
    "        n_out: Number of observations as output (y).\n",
    "        dropnan: Boolean whether or not to drop rows with NaN values.\n",
    "    Returns:\n",
    "        Pandas DataFrame of series framed for supervised learning.\n",
    "    \"\"\"\n",
    "    n_vars = 1 if type(data) is list else data.shape[1]\n",
    "    df = pd.DataFrame(data)\n",
    "    cols, names = list(), list()\n",
    "    # input sequence (t-n, ... t-1)\n",
    "    for i in range(n_in, 0, -1):\n",
    "        cols.append(df.shift(i))\n",
    "        names += [('var%d(t-%d)' % (j+1, i)) for j in range(n_vars)]\n",
    "    # forecast sequence (t, t+1, ... t+n)\n",
    "    for i in range(0, n_out):\n",
    "        cols.append(df.shift(-i))\n",
    "        if i == 0:\n",
    "            names += [('var%d(t)' % (j+1)) for j in range(n_vars)]\n",
    "        else:\n",
    "            names += [('var%d(t+%d)' % (j+1, i)) for j in range(n_vars)]\n",
    "    # put it all together\n",
    "    agg = pd.concat(cols, axis=1)\n",
    "    agg.columns = names\n",
    "    # drop rows with NaN values\n",
    "    if dropnan:\n",
    "        agg.dropna(inplace=True)\n",
    "    return agg"
   ]
  },
  {
   "cell_type": "code",
   "execution_count": 2,
   "metadata": {},
   "outputs": [],
   "source": [
    "train_df = pd.read_csv('data/cleaned_data.csv')"
   ]
  },
  {
   "cell_type": "code",
   "execution_count": 3,
   "metadata": {},
   "outputs": [
    {
     "data": {
      "text/html": [
       "<div>\n",
       "<style scoped>\n",
       "    .dataframe tbody tr th:only-of-type {\n",
       "        vertical-align: middle;\n",
       "    }\n",
       "\n",
       "    .dataframe tbody tr th {\n",
       "        vertical-align: top;\n",
       "    }\n",
       "\n",
       "    .dataframe thead th {\n",
       "        text-align: right;\n",
       "    }\n",
       "</style>\n",
       "<table border=\"1\" class=\"dataframe\">\n",
       "  <thead>\n",
       "    <tr style=\"text-align: right;\">\n",
       "      <th></th>\n",
       "      <th>timestamp</th>\n",
       "      <th>passenger_count</th>\n",
       "      <th>trip_distance</th>\n",
       "      <th>total_amount</th>\n",
       "      <th>humidity</th>\n",
       "      <th>pressure</th>\n",
       "      <th>temperature</th>\n",
       "      <th>weather_description</th>\n",
       "      <th>wind_direction</th>\n",
       "      <th>wind_speed</th>\n",
       "      <th>amount_rate</th>\n",
       "      <th>time</th>\n",
       "    </tr>\n",
       "  </thead>\n",
       "  <tbody>\n",
       "    <tr>\n",
       "      <th>0</th>\n",
       "      <td>1498050000</td>\n",
       "      <td>26805</td>\n",
       "      <td>45733.59</td>\n",
       "      <td>285315.95</td>\n",
       "      <td>57.0</td>\n",
       "      <td>1014.0</td>\n",
       "      <td>295.37</td>\n",
       "      <td>25</td>\n",
       "      <td>290.0</td>\n",
       "      <td>3.0</td>\n",
       "      <td>0.000233</td>\n",
       "      <td>2017-06-21 15:00:00</td>\n",
       "    </tr>\n",
       "    <tr>\n",
       "      <th>1</th>\n",
       "      <td>1486310400</td>\n",
       "      <td>27487</td>\n",
       "      <td>50781.62</td>\n",
       "      <td>262346.81</td>\n",
       "      <td>51.0</td>\n",
       "      <td>1016.0</td>\n",
       "      <td>273.91</td>\n",
       "      <td>17</td>\n",
       "      <td>250.0</td>\n",
       "      <td>5.0</td>\n",
       "      <td>0.000188</td>\n",
       "      <td>2017-02-05 17:00:00</td>\n",
       "    </tr>\n",
       "    <tr>\n",
       "      <th>2</th>\n",
       "      <td>1464897600</td>\n",
       "      <td>41686</td>\n",
       "      <td>71816.81</td>\n",
       "      <td>400042.82</td>\n",
       "      <td>82.0</td>\n",
       "      <td>1020.0</td>\n",
       "      <td>296.72</td>\n",
       "      <td>6</td>\n",
       "      <td>90.0</td>\n",
       "      <td>5.0</td>\n",
       "      <td>0.000134</td>\n",
       "      <td>2016-06-02 22:00:00</td>\n",
       "    </tr>\n",
       "    <tr>\n",
       "      <th>3</th>\n",
       "      <td>1456308000</td>\n",
       "      <td>31526</td>\n",
       "      <td>44498.25</td>\n",
       "      <td>291332.16</td>\n",
       "      <td>86.0</td>\n",
       "      <td>1019.0</td>\n",
       "      <td>275.77</td>\n",
       "      <td>15</td>\n",
       "      <td>70.0</td>\n",
       "      <td>6.0</td>\n",
       "      <td>0.000208</td>\n",
       "      <td>2016-02-24 11:00:00</td>\n",
       "    </tr>\n",
       "    <tr>\n",
       "      <th>4</th>\n",
       "      <td>1458097200</td>\n",
       "      <td>4138</td>\n",
       "      <td>9353.05</td>\n",
       "      <td>42545.26</td>\n",
       "      <td>81.0</td>\n",
       "      <td>1010.0</td>\n",
       "      <td>282.52</td>\n",
       "      <td>17</td>\n",
       "      <td>15.0</td>\n",
       "      <td>1.0</td>\n",
       "      <td>0.001099</td>\n",
       "      <td>2016-03-16 04:00:00</td>\n",
       "    </tr>\n",
       "  </tbody>\n",
       "</table>\n",
       "</div>"
      ],
      "text/plain": [
       "    timestamp  passenger_count  trip_distance  total_amount  humidity  \\\n",
       "0  1498050000            26805       45733.59     285315.95      57.0   \n",
       "1  1486310400            27487       50781.62     262346.81      51.0   \n",
       "2  1464897600            41686       71816.81     400042.82      82.0   \n",
       "3  1456308000            31526       44498.25     291332.16      86.0   \n",
       "4  1458097200             4138        9353.05      42545.26      81.0   \n",
       "\n",
       "   pressure  temperature  weather_description  wind_direction  wind_speed  \\\n",
       "0    1014.0       295.37                   25           290.0         3.0   \n",
       "1    1016.0       273.91                   17           250.0         5.0   \n",
       "2    1020.0       296.72                    6            90.0         5.0   \n",
       "3    1019.0       275.77                   15            70.0         6.0   \n",
       "4    1010.0       282.52                   17            15.0         1.0   \n",
       "\n",
       "   amount_rate                 time  \n",
       "0     0.000233  2017-06-21 15:00:00  \n",
       "1     0.000188  2017-02-05 17:00:00  \n",
       "2     0.000134  2016-06-02 22:00:00  \n",
       "3     0.000208  2016-02-24 11:00:00  \n",
       "4     0.001099  2016-03-16 04:00:00  "
      ]
     },
     "execution_count": 3,
     "metadata": {},
     "output_type": "execute_result"
    }
   ],
   "source": [
    "train_df.head()"
   ]
  },
  {
   "cell_type": "markdown",
   "metadata": {},
   "source": [
    "### Sorting the cleaned dataframe by the time"
   ]
  },
  {
   "cell_type": "code",
   "execution_count": 4,
   "metadata": {},
   "outputs": [],
   "source": [
    "train_df.sort_values('time', ascending=True, inplace = True)\n",
    "train_df.reset_index(inplace = True)"
   ]
  },
  {
   "cell_type": "code",
   "execution_count": 5,
   "metadata": {},
   "outputs": [],
   "source": [
    "timearr = train_df.time.values"
   ]
  },
  {
   "cell_type": "code",
   "execution_count": 6,
   "metadata": {},
   "outputs": [],
   "source": [
    "train_df.drop(['timestamp', 'time'], axis = 1, inplace = True)"
   ]
  },
  {
   "cell_type": "markdown",
   "metadata": {},
   "source": [
    "### Extracting the values from the dataframe to a two dimension vector"
   ]
  },
  {
   "cell_type": "code",
   "execution_count": 7,
   "metadata": {},
   "outputs": [],
   "source": [
    "vals = train_df.values"
   ]
  },
  {
   "cell_type": "markdown",
   "metadata": {},
   "source": [
    "### Scaling the X and y values with a MinMaxScaler to optimize the loss functions for training"
   ]
  },
  {
   "cell_type": "code",
   "execution_count": 8,
   "metadata": {},
   "outputs": [],
   "source": [
    "X_scaler = MinMaxScaler(feature_range=(0, 1))\n",
    "y_scaler = MinMaxScaler(feature_range=(0, 1))"
   ]
  },
  {
   "cell_type": "code",
   "execution_count": 9,
   "metadata": {},
   "outputs": [],
   "source": [
    "x_vals = vals[:,1:]\n",
    "y_vals = vals[:,:1]"
   ]
  },
  {
   "cell_type": "code",
   "execution_count": 10,
   "metadata": {},
   "outputs": [],
   "source": [
    "x_vals_scaled = X_scaler.fit_transform(x_vals)\n",
    "y_vals_scaled = y_scaler.fit_transform(y_vals)"
   ]
  },
  {
   "cell_type": "code",
   "execution_count": 11,
   "metadata": {},
   "outputs": [],
   "source": [
    "vals_scaled = np.concatenate((y_vals_scaled, x_vals_scaled), axis = 1)"
   ]
  },
  {
   "cell_type": "markdown",
   "metadata": {},
   "source": [
    "### Reframing the dataframe for multivariate supervised timeseries modelling"
   ]
  },
  {
   "cell_type": "code",
   "execution_count": 12,
   "metadata": {},
   "outputs": [],
   "source": [
    "vals_scaled_reframed = series_to_supervised(vals_scaled)"
   ]
  },
  {
   "cell_type": "code",
   "execution_count": 13,
   "metadata": {},
   "outputs": [],
   "source": [
    "vals_scaled_reframed.drop(['var1(t)','var2(t)','var3(t)','var4(t)','var5(t)','var6(t)','var7(t)','var8(t)','var9(t)','var10(t)'], axis = 1, inplace = True)"
   ]
  },
  {
   "cell_type": "code",
   "execution_count": 14,
   "metadata": {},
   "outputs": [],
   "source": [
    "vals_final = vals_scaled_reframed.values"
   ]
  },
  {
   "cell_type": "markdown",
   "metadata": {},
   "source": [
    "## Separating training and test sets"
   ]
  },
  {
   "cell_type": "code",
   "execution_count": 15,
   "metadata": {},
   "outputs": [],
   "source": [
    "test_frac = 0.20\n",
    "train_size = int(round(vals_final.shape[0]*(1-test_frac)))"
   ]
  },
  {
   "cell_type": "code",
   "execution_count": 16,
   "metadata": {},
   "outputs": [],
   "source": [
    "train_set = vals_final[:train_size, :]\n",
    "test_set = vals_final[train_size:, :]"
   ]
  },
  {
   "cell_type": "code",
   "execution_count": 17,
   "metadata": {},
   "outputs": [],
   "source": [
    "X_train, y_train = train_set[:,1:], train_set[:,:1] \n",
    "X_test, y_test = test_set[:,1:], test_set[:,:1]"
   ]
  },
  {
   "cell_type": "code",
   "execution_count": 18,
   "metadata": {},
   "outputs": [],
   "source": [
    "X_train = X_train.reshape((X_train.shape[0], 1, X_train.shape[1]))\n",
    "X_test = X_test.reshape((X_test.shape[0], 1, X_test.shape[1]))"
   ]
  },
  {
   "cell_type": "markdown",
   "metadata": {},
   "source": [
    "### A simple LSTM model with Keras"
   ]
  },
  {
   "cell_type": "code",
   "execution_count": 19,
   "metadata": {},
   "outputs": [],
   "source": [
    "model = Sequential()\n",
    "model.add(LSTM(64, input_shape=(X_train.shape[1], X_train.shape[2])))\n",
    "model.add(Dense(1))\n",
    "model.compile(loss='mean_squared_error', optimizer='adam')"
   ]
  },
  {
   "cell_type": "code",
   "execution_count": 20,
   "metadata": {},
   "outputs": [
    {
     "name": "stdout",
     "output_type": "stream",
     "text": [
      "Model: \"sequential_1\"\n",
      "_________________________________________________________________\n",
      "Layer (type)                 Output Shape              Param #   \n",
      "=================================================================\n",
      "lstm_1 (LSTM)                (None, 64)                19456     \n",
      "_________________________________________________________________\n",
      "dense_1 (Dense)              (None, 1)                 65        \n",
      "=================================================================\n",
      "Total params: 19,521\n",
      "Trainable params: 19,521\n",
      "Non-trainable params: 0\n",
      "_________________________________________________________________\n"
     ]
    }
   ],
   "source": [
    "model.summary()"
   ]
  },
  {
   "cell_type": "markdown",
   "metadata": {},
   "source": [
    "### Execute the next cell if you experience OS errors on mac if in case the keras model training doesn't work"
   ]
  },
  {
   "cell_type": "code",
   "execution_count": 21,
   "metadata": {},
   "outputs": [],
   "source": [
    "import os\n",
    "\n",
    "os.environ['KMP_DUPLICATE_LIB_OK']='True'"
   ]
  },
  {
   "cell_type": "markdown",
   "metadata": {},
   "source": [
    "### Training the keras model for 50 epochs \n",
    "(asymptote on the loss reaches around 30 epochs)"
   ]
  },
  {
   "cell_type": "code",
   "execution_count": 22,
   "metadata": {
    "scrolled": true
   },
   "outputs": [
    {
     "name": "stdout",
     "output_type": "stream",
     "text": [
      "Train on 12798 samples, validate on 3199 samples\n",
      "Epoch 1/50\n",
      " - 11s - loss: 0.0967 - val_loss: 0.0846\n",
      "Epoch 2/50\n",
      " - 4s - loss: 0.0846 - val_loss: 0.0842\n",
      "Epoch 3/50\n",
      " - 5s - loss: 0.0843 - val_loss: 0.0841\n",
      "Epoch 4/50\n",
      " - 5s - loss: 0.0841 - val_loss: 0.0840\n",
      "Epoch 5/50\n",
      " - 4s - loss: 0.0839 - val_loss: 0.0839\n",
      "Epoch 6/50\n",
      " - 4s - loss: 0.0838 - val_loss: 0.0838\n",
      "Epoch 7/50\n",
      " - 4s - loss: 0.0837 - val_loss: 0.0838\n",
      "Epoch 8/50\n",
      " - 5s - loss: 0.0837 - val_loss: 0.0838\n",
      "Epoch 9/50\n",
      " - 4s - loss: 0.0836 - val_loss: 0.0837\n",
      "Epoch 10/50\n",
      " - 5s - loss: 0.0836 - val_loss: 0.0837\n",
      "Epoch 11/50\n",
      " - 4s - loss: 0.0836 - val_loss: 0.0837\n",
      "Epoch 12/50\n",
      " - 5s - loss: 0.0836 - val_loss: 0.0837\n",
      "Epoch 13/50\n",
      " - 4s - loss: 0.0836 - val_loss: 0.0837\n",
      "Epoch 14/50\n",
      " - 5s - loss: 0.0835 - val_loss: 0.0837\n",
      "Epoch 15/50\n",
      " - 4s - loss: 0.0835 - val_loss: 0.0837\n",
      "Epoch 16/50\n",
      " - 5s - loss: 0.0835 - val_loss: 0.0837\n",
      "Epoch 17/50\n",
      " - 4s - loss: 0.0835 - val_loss: 0.0837\n",
      "Epoch 18/50\n",
      " - 5s - loss: 0.0835 - val_loss: 0.0837\n",
      "Epoch 19/50\n",
      " - 5s - loss: 0.0835 - val_loss: 0.0837\n",
      "Epoch 20/50\n",
      " - 4s - loss: 0.0835 - val_loss: 0.0837\n",
      "Epoch 21/50\n",
      " - 5s - loss: 0.0835 - val_loss: 0.0837\n",
      "Epoch 22/50\n",
      " - 4s - loss: 0.0835 - val_loss: 0.0837\n",
      "Epoch 23/50\n",
      " - 4s - loss: 0.0835 - val_loss: 0.0837\n",
      "Epoch 24/50\n",
      " - 4s - loss: 0.0835 - val_loss: 0.0837\n",
      "Epoch 25/50\n",
      " - 4s - loss: 0.0835 - val_loss: 0.0837\n",
      "Epoch 26/50\n",
      " - 4s - loss: 0.0835 - val_loss: 0.0837\n",
      "Epoch 27/50\n",
      " - 4s - loss: 0.0835 - val_loss: 0.0837\n",
      "Epoch 28/50\n",
      " - 4s - loss: 0.0835 - val_loss: 0.0837\n",
      "Epoch 29/50\n",
      " - 4s - loss: 0.0835 - val_loss: 0.0837\n",
      "Epoch 30/50\n",
      " - 6s - loss: 0.0835 - val_loss: 0.0837\n",
      "Epoch 31/50\n",
      " - 6s - loss: 0.0834 - val_loss: 0.0837\n",
      "Epoch 32/50\n",
      " - 5s - loss: 0.0834 - val_loss: 0.0837\n",
      "Epoch 33/50\n",
      " - 4s - loss: 0.0834 - val_loss: 0.0837\n",
      "Epoch 34/50\n",
      " - 6s - loss: 0.0834 - val_loss: 0.0837\n",
      "Epoch 35/50\n",
      " - 5s - loss: 0.0834 - val_loss: 0.0837\n",
      "Epoch 36/50\n",
      " - 5s - loss: 0.0834 - val_loss: 0.0837\n",
      "Epoch 37/50\n",
      " - 5s - loss: 0.0834 - val_loss: 0.0837\n",
      "Epoch 38/50\n",
      " - 5s - loss: 0.0834 - val_loss: 0.0837\n",
      "Epoch 39/50\n",
      " - 5s - loss: 0.0834 - val_loss: 0.0837\n",
      "Epoch 40/50\n",
      " - 4s - loss: 0.0834 - val_loss: 0.0837\n",
      "Epoch 41/50\n",
      " - 4s - loss: 0.0834 - val_loss: 0.0837\n",
      "Epoch 42/50\n",
      " - 4s - loss: 0.0834 - val_loss: 0.0837\n",
      "Epoch 43/50\n",
      " - 4s - loss: 0.0834 - val_loss: 0.0837\n",
      "Epoch 44/50\n",
      " - 4s - loss: 0.0834 - val_loss: 0.0837\n",
      "Epoch 45/50\n",
      " - 4s - loss: 0.0834 - val_loss: 0.0837\n",
      "Epoch 46/50\n",
      " - 4s - loss: 0.0834 - val_loss: 0.0838\n",
      "Epoch 47/50\n",
      " - 4s - loss: 0.0834 - val_loss: 0.0838\n",
      "Epoch 48/50\n",
      " - 5s - loss: 0.0834 - val_loss: 0.0838\n",
      "Epoch 49/50\n",
      " - 5s - loss: 0.0834 - val_loss: 0.0838\n",
      "Epoch 50/50\n",
      " - 6s - loss: 0.0834 - val_loss: 0.0838\n"
     ]
    }
   ],
   "source": [
    "hist = model.fit(X_train, y_train,  epochs=50, validation_data=(X_test, y_test), verbose=2, shuffle=False)"
   ]
  },
  {
   "cell_type": "markdown",
   "metadata": {},
   "source": [
    "### Loss over training epochs"
   ]
  },
  {
   "cell_type": "code",
   "execution_count": 23,
   "metadata": {},
   "outputs": [
    {
     "data": {
      "text/plain": [
       "<matplotlib.legend.Legend at 0x1a4cf20fd0>"
      ]
     },
     "execution_count": 23,
     "metadata": {},
     "output_type": "execute_result"
    },
    {
     "data": {
      "image/png": "[encoded data removed]",
      "text/plain": [
       "<Figure size 432x288 with 1 Axes>"
      ]
     },
     "metadata": {
      "needs_background": "light"
     },
     "output_type": "display_data"
    }
   ],
   "source": [
    "plt.plot(hist.history['loss'], label='train')\n",
    "plt.plot(hist.history['val_loss'], label='test')\n",
    "plt.xlabel('Epochs')\n",
    "plt.ylabel('Loss')\n",
    "plt.legend()"
   ]
  },
  {
   "cell_type": "markdown",
   "metadata": {},
   "source": [
    "### Model performance"
   ]
  },
  {
   "cell_type": "markdown",
   "metadata": {},
   "source": [
    "make a prediction"
   ]
  },
  {
   "cell_type": "code",
   "execution_count": 24,
   "metadata": {},
   "outputs": [],
   "source": [
    "yhat = model.predict(X_test)\n",
    "X_test = X_test.reshape((X_test.shape[0], X_test.shape[2]))"
   ]
  },
  {
   "cell_type": "markdown",
   "metadata": {},
   "source": [
    "invert scaling for forecast"
   ]
  },
  {
   "cell_type": "code",
   "execution_count": 25,
   "metadata": {},
   "outputs": [],
   "source": [
    "inv_yhat = np.concatenate((yhat, X_test[:, 1:]), axis=1)\n",
    "inv_yhat = y_scaler.inverse_transform(inv_yhat)\n",
    "inv_yhat = inv_yhat[:,0]\n"
   ]
  },
  {
   "cell_type": "markdown",
   "metadata": {},
   "source": [
    "invert scaling for actual"
   ]
  },
  {
   "cell_type": "code",
   "execution_count": 26,
   "metadata": {},
   "outputs": [],
   "source": [
    "y_test = y_test.reshape((len(y_test), 1))\n",
    "inv_y = np.concatenate((y_test, X_test[:, 1:]), axis=1)\n",
    "inv_y = y_scaler.inverse_transform(inv_y)\n",
    "inv_y = inv_y[:,0]\n"
   ]
  },
  {
   "cell_type": "markdown",
   "metadata": {},
   "source": [
    "calculate RMSE"
   ]
  },
  {
   "cell_type": "code",
   "execution_count": 27,
   "metadata": {},
   "outputs": [
    {
     "name": "stdout",
     "output_type": "stream",
     "text": [
      "Test RMSE: 4629.946\n"
     ]
    }
   ],
   "source": [
    "rmse = sqrt(mean_squared_error(inv_y, inv_yhat))\n",
    "print('Test RMSE: %.3f' % rmse)"
   ]
  }
 ],
 "metadata": {
  "kernelspec": {
   "display_name": "Python 3",
   "language": "python",
   "name": "python3"
  },
  "language_info": {
   "codemirror_mode": {
    "name": "ipython",
    "version": 3
   },
   "file_extension": ".py",
   "mimetype": "text/x-python",
   "name": "python",
   "nbconvert_exporter": "python",
   "pygments_lexer": "ipython3",
   "version": "3.6.10"
  }
 },
 "nbformat": 4,
 "nbformat_minor": 2
}
